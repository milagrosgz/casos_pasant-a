{
  "nbformat": 4,
  "nbformat_minor": 0,
  "metadata": {
    "colab": {
      "name": "Casos",
      "provenance": [],
      "collapsed_sections": [],
      "authorship_tag": "ABX9TyP9TGJMCX6s4LwgUA1Xcjmj",
      "include_colab_link": true
    },
    "kernelspec": {
      "name": "python3",
      "display_name": "Python 3"
    }
  },
  "cells": [
    {
      "cell_type": "markdown",
      "metadata": {
        "id": "view-in-github",
        "colab_type": "text"
      },
      "source": [
        "<a href=\"https://colab.research.google.com/github/milagrosgz/casos_pasantia/blob/main/Casos.ipynb\" target=\"_parent\"><img src=\"https://colab.research.google.com/assets/colab-badge.svg\" alt=\"Open In Colab\"/></a>"
      ]
    },
    {
      "cell_type": "markdown",
      "metadata": {
        "id": "OA6za82dCQlF"
      },
      "source": [
        "1. Elaborar un programa que determine la suma de los dígitos de un número (de hasta 5 dígitos). Ej:\r\n",
        " Input 45   Output 9\r\n",
        " Input 103  Output 4\r\n"
      ]
    },
    {
      "cell_type": "markdown",
      "metadata": {
        "id": "EluuHIFWCkHn"
      },
      "source": [
        "Opción1\r\n"
      ]
    },
    {
      "cell_type": "code",
      "metadata": {
        "colab": {
          "base_uri": "https://localhost:8080/"
        },
        "id": "nDIwxmxqCa39",
        "outputId": "ac506b8d-525b-44bc-cda4-e608b47e133d"
      },
      "source": [
        "sumDigit=0\r\n",
        "extNum=0\r\n",
        "numEntero= int(input(\"Ingrese un numero entero de hasta 5 dígitos: \"))\r\n",
        "if numEntero in range (1, 100000):\r\n",
        "  while numEntero !=0:\r\n",
        "   extNum= numEntero % 10\r\n",
        "   numEntero= numEntero//10\r\n",
        "   sumDigit= sumDigit+ extNum\r\n",
        "  print(f\"la suma de los dígitos es :{sumDigit}\")\r\n",
        "else:\r\n",
        "  print(\"solo se permiten números de hasta 5 dígitos\")"
      ],
      "execution_count": null,
      "outputs": [
        {
          "output_type": "stream",
          "text": [
            "Ingrese un numero entero de hasta 5 dígitos: 45\n",
            "la suma de los dígitos es :9\n"
          ],
          "name": "stdout"
        }
      ]
    },
    {
      "cell_type": "markdown",
      "metadata": {
        "id": "DEfFk5O0DT4f"
      },
      "source": [
        "Opción 2"
      ]
    },
    {
      "cell_type": "code",
      "metadata": {
        "id": "Pk3zqRIbCu_K"
      },
      "source": [
        "def sumaDig (numero):\r\n",
        "  if numero in range (1, 100000):\r\n",
        "    suma=sum([int(c) for c in str(numero)])\r\n",
        "    return suma\r\n",
        "  else: \r\n",
        "    print(\"solo se permiten números de hasta 5 dígitos\")"
      ],
      "execution_count": null,
      "outputs": []
    },
    {
      "cell_type": "code",
      "metadata": {
        "colab": {
          "base_uri": "https://localhost:8080/"
        },
        "id": "AmJ387HgDYHi",
        "outputId": "4ddfe4da-c33e-4773-e321-6ae40b596942"
      },
      "source": [
        "sumaDig(103)"
      ],
      "execution_count": null,
      "outputs": [
        {
          "output_type": "execute_result",
          "data": {
            "text/plain": [
              "4"
            ]
          },
          "metadata": {
            "tags": []
          },
          "execution_count": 4
        }
      ]
    },
    {
      "cell_type": "markdown",
      "metadata": {
        "id": "KXTWUF-NDiqg"
      },
      "source": [
        "2. Dado dos listas/vectores de enteros, indicar si el elemento de menor valor es encontrado en el otro vector. "
      ]
    },
    {
      "cell_type": "markdown",
      "metadata": {
        "id": "YFztu_HWEFdc"
      },
      "source": [
        "EJEMPLO1:  Input V1= [45, 12, 1, 4]      V2=[103, 123, 0, 5, 9]\r\n",
        "Output False"
      ]
    },
    {
      "cell_type": "code",
      "metadata": {
        "id": "dAN9XPRSDbPk"
      },
      "source": [
        "V1=[45,12,1,4]\r\n",
        "V2=[103,123,0,5,9]\r\n"
      ],
      "execution_count": null,
      "outputs": []
    },
    {
      "cell_type": "code",
      "metadata": {
        "colab": {
          "base_uri": "https://localhost:8080/"
        },
        "id": "kaAnBiUVEixQ",
        "outputId": "3fea7f40-907a-4769-bc56-6498f916b871"
      },
      "source": [
        "if min(V1)== min(V2):\r\n",
        "    print(\"True\") \r\n",
        "else:\r\n",
        "    print(\"False\")"
      ],
      "execution_count": null,
      "outputs": [
        {
          "output_type": "stream",
          "text": [
            "False\n"
          ],
          "name": "stdout"
        }
      ]
    },
    {
      "cell_type": "markdown",
      "metadata": {
        "id": "CEnRyG9VEY-l"
      },
      "source": [
        "EJEMPLO2: Input V1= [1, 2, 4, 55]      V2=[1, 4, 5, 0, 23]\r\n",
        "Output True"
      ]
    },
    {
      "cell_type": "code",
      "metadata": {
        "id": "fFQtwJGdDwnz"
      },
      "source": [
        "V1=[1,2,4,55]\r\n",
        "V2=[1,4,5,0,23]"
      ],
      "execution_count": null,
      "outputs": []
    },
    {
      "cell_type": "code",
      "metadata": {
        "colab": {
          "base_uri": "https://localhost:8080/"
        },
        "id": "TLzU05OOE7WK",
        "outputId": "bacfb045-fe40-4e98-9a74-f43a5e8756f9"
      },
      "source": [
        "if min(V1)== min(V2):\r\n",
        "    print(\"True\") \r\n",
        "else:\r\n",
        "    print(\"False\")"
      ],
      "execution_count": null,
      "outputs": [
        {
          "output_type": "stream",
          "text": [
            "False\n"
          ],
          "name": "stdout"
        }
      ]
    },
    {
      "cell_type": "markdown",
      "metadata": {
        "id": "m169MkDjFStt"
      },
      "source": [
        "3. Encontrar los números que se repiten (dos o más veces) en un arreglo(array) de 100 valores aleatorios."
      ]
    },
    {
      "cell_type": "code",
      "metadata": {
        "colab": {
          "base_uri": "https://localhost:8080/"
        },
        "id": "QWG45AJ3E__c",
        "outputId": "449812ae-9ffd-44ff-e5f5-655ce25f6013"
      },
      "source": [
        "import numpy as np \r\n",
        "valores_aleatorios=np.random.randint(1, 1000,100)\r\n",
        "valores_aleatorios"
      ],
      "execution_count": null,
      "outputs": [
        {
          "output_type": "execute_result",
          "data": {
            "text/plain": [
              "array([621,  41, 890, 304, 711, 604, 417, 520, 392, 517, 579, 938, 969,\n",
              "       508, 835, 527, 559, 501,  10, 371, 376, 727, 173, 949,  51, 350,\n",
              "       406, 822, 468, 448, 651,   4, 270, 749, 633, 380, 425, 770, 895,\n",
              "       435, 991, 580, 390,  47, 469, 451, 229,  25, 842, 928,  97, 953,\n",
              "        94,   2, 823, 933, 756, 601,  42, 824, 627, 494, 344, 460, 704,\n",
              "       494, 501, 575, 698, 302, 211, 818, 100, 930, 663,  10, 949, 160,\n",
              "       726, 732, 582, 354, 850, 340,  94, 952, 559, 925, 123, 246, 826,\n",
              "       971, 633, 337, 852, 300, 353, 647, 793, 965])"
            ]
          },
          "metadata": {
            "tags": []
          },
          "execution_count": 10
        }
      ]
    },
    {
      "cell_type": "code",
      "metadata": {
        "colab": {
          "base_uri": "https://localhost:8080/"
        },
        "id": "Oumat6rwFe58",
        "outputId": "d079c778-9756-484c-b87f-67fedd520e8f"
      },
      "source": [
        "import collections\r\n",
        "repetidos=[x for x, y in collections.Counter(valores_aleatorios).items() if y>1]\r\n",
        "print(repetidos)"
      ],
      "execution_count": null,
      "outputs": [
        {
          "output_type": "stream",
          "text": [
            "[559, 501, 10, 949, 633, 94, 494]\n"
          ],
          "name": "stdout"
        }
      ]
    },
    {
      "cell_type": "markdown",
      "metadata": {
        "id": "Yrt6TMGWGKBs"
      },
      "source": [
        "Resolución para los casos del correo:"
      ]
    },
    {
      "cell_type": "code",
      "metadata": {
        "colab": {
          "base_uri": "https://localhost:8080/"
        },
        "id": "5ubL4msqFpFh",
        "outputId": "226d760d-f994-4693-b3a0-a89b3a21bc16"
      },
      "source": [
        "V1=[45,12,1,4, 103,123, 1, 5, 9]\r\n",
        "repetidos=[x for x, y in collections.Counter(V1).items() if y>1]\r\n",
        "print(repetidos)"
      ],
      "execution_count": null,
      "outputs": [
        {
          "output_type": "stream",
          "text": [
            "[1]\n"
          ],
          "name": "stdout"
        }
      ]
    },
    {
      "cell_type": "code",
      "metadata": {
        "colab": {
          "base_uri": "https://localhost:8080/"
        },
        "id": "okKjpCMKF4s0",
        "outputId": "d47a6369-d4f4-43f9-d7e5-7efd8a218a03"
      },
      "source": [
        "V1=[45, 12, 1, 4, 45, 123, 1, 5, 9]\r\n",
        "repetidos=[x for x, y in collections.Counter(V1).items() if y>1]\r\n",
        "print(repetidos)"
      ],
      "execution_count": null,
      "outputs": [
        {
          "output_type": "stream",
          "text": [
            "[45, 1]\n"
          ],
          "name": "stdout"
        }
      ]
    },
    {
      "cell_type": "code",
      "metadata": {
        "colab": {
          "base_uri": "https://localhost:8080/"
        },
        "id": "V3gaUMRLGhSP",
        "outputId": "b9c7ccfa-4ef9-4426-88ab-14ff6689efd0"
      },
      "source": [
        "V1=[45, 123, 1, 4, 45, 123, 1, 5, 9]\r\n",
        "repetidos=[x for x, y in collections.Counter(V1).items() if y>1]\r\n",
        "print(repetidos)"
      ],
      "execution_count": null,
      "outputs": [
        {
          "output_type": "stream",
          "text": [
            "[45, 123, 1]\n"
          ],
          "name": "stdout"
        }
      ]
    },
    {
      "cell_type": "markdown",
      "metadata": {
        "id": "SFgxcl31G7UX"
      },
      "source": [
        "4. Scrapear todo los titulos de los comics de la página https://xkcd.com/archive/  y guardarlos en archivo 'comic.csv'"
      ]
    },
    {
      "cell_type": "code",
      "metadata": {
        "colab": {
          "base_uri": "https://localhost:8080/"
        },
        "id": "qbTDUHcHGvUt",
        "outputId": "f9dfef96-4422-41f8-ee8c-d65d5e664ba1"
      },
      "source": [
        "!pip install kora -q"
      ],
      "execution_count": null,
      "outputs": [
        {
          "output_type": "stream",
          "text": [
            "\u001b[K     |████████████████████████████████| 61kB 4.5MB/s \n",
            "\u001b[K     |████████████████████████████████| 61kB 5.1MB/s \n",
            "\u001b[?25h"
          ],
          "name": "stdout"
        }
      ]
    },
    {
      "cell_type": "code",
      "metadata": {
        "id": "5iJt9eTUl-zu"
      },
      "source": [
        "from kora.selenium import wd\r\n",
        "wd.get(\"https://xkcd.com/archive/\")"
      ],
      "execution_count": null,
      "outputs": []
    },
    {
      "cell_type": "code",
      "metadata": {
        "id": "S4-Jqgf2macG",
        "colab": {
          "base_uri": "https://localhost:8080/"
        },
        "outputId": "268f6361-1921-4deb-f14a-741f4142de65"
      },
      "source": [
        "titulo = wd.find_elements_by_xpath(\"//*[@id='middleContainer']/a\")\r\n",
        "titulo = [i.text for i in titulo]\r\n",
        "print(titulo)"
      ],
      "execution_count": null,
      "outputs": [
        {
          "output_type": "stream",
          "text": [
            "['Wrapping Paper', 'Into My Veins', 'Conjunction', 'Statistics', '2020 Election Map', 'Vaccine Tracker', \"I Just Don't Trust Them\", 'Wonder Woman 1984', 'Covid Precaution Level', 'Contiguous 41 States', 'Presidential Middle Names', 'Cyber Cafe', 'Life Before the Pandemic', 'Linguists', 'Unread', 'Viral Quiz Identity Theft', 'Blair Witch', 'Ten Years', 'Final Exam', 'Set in the Present', 'Electoral Precedent 2020', 'Ballot Tracker Tracker', 'The True Name of the Bear', 'Election Impact Score Sheet', 'Probability Comparisons', 'Fall Back', 'xkcd Phone 12', 'Curbside', 'Worst Ladder', '10,000 Hours', 'Chemist Eggs', 'Dialect Quiz', 'Election Screen Time', 'Prediction', 'All-in-One', 'Bigger Problem', 'Masks', \"Amelia's Farm Fresh Cookies\", 'Messaging Systems', 'Parity Conservation', 'Message Boards', 'Volcano Dinosaur', 'Voting', 'Common Star Types', 'Evidence of Alien Life', 'Gravitational Wave Pulsars', 'Polls vs the Street', 'Constellation Monstrosity', 'University COVID Model', 'Stellar Evolution', 'Hurricane Hunters', 'Synonym Date', 'Standard Model Changes', 'Deer Turrets', 'Rabbit Introduction', 'Boat Puzzle', 'Dependency', 'COVID Risk Comfort Zone', 'Wish on a Shooting Star', '26-Second Pulse', 'Mathematical Symbol Fight', 'Exposure Notification', 'Scientist Tech Help', 'Cosmologist Genres', 'Pods vs Bubbles', 'Faraday Tour', 'Asterisk Corrections', 'Campfire Habitable Zone', 'Photo Deposit', 'Slide Trombone', 'COVID Risk Chart', 'Cursed Chair', 'Hamster Ball 2', 'Acceptable Risk', 'Universal Rating Scale', 'Space Basketball', 'Oily House Index', 'Five Word Jargon', 'Endorheic Basin', 'Old Days 2', 'Modeling Study', 'ISO Paper Size Golden Spiral', 'Low-Background Metal', 'Millennium Problems', 'Large Number Formats', 'Dynamic Entropy', 'Pinouts', 'Hair Growth Rate', 'Eventual Consistency', 'Carcinization', 'Wrong Times Table', 'mbmbam', 'Confidence Interval', 'Great Attractor', 'X', 'Mount St. Helens', 'Alive or Not', 'Common Cold', 'Coronavirus Polling', 'Preprint', 'Error Types', '2020 Google Trends', 'Turtle Sandwich Standard Model', \"Everyone's an Epidemiologist\", 'Coronavirus Genome 2', 'Coronavirus Genome', 'Use or Discard By', 'Sourdough Starter', 'Garbage Math', 'Coronavirus Charts', 'RIP John Conway', 'Thermometer', 'New Sports System', 'Homemade Masks', 'Scenario 4', \"Collector's Edition\", 'Pathogen Resistance', '6-Foot Zone', 'Recurring Nightmare', 'Sabotage', 'Exa-Exabyte', 'Coronavirus Worries', 'Coronavirus Research', '2010 and 2020', 'Symptoms', 'Scientific Briefing', 'Business Greetings', 'Self-Isolate', 'Coronavirus Name', 'Stargazing 3', 'Truck Proximity', 'Ringtone Timeline', 'Grandpa Jason and Grandpa Chad', 'Picking Bad Stocks', 'Phylogenetic Tree', 'Further Research is Needed', 'Blockchain', 'Leap Smearing', 'Tax AI', 'Satellite', 'Cicadas', 'Parker Solar Probe', 'Worst Thing That Could Happen', 'Reaction Maps', 'Networking Problems', 'Solar System Changes', 'Unsubscribe Message', 'Bad Map Projection: South America', 'Tattoo Ideas', 'JPEG2000', 'Star Wars Voyager 1', 'Parenthetical Names', 'Alignment Chart Alignment Chart', 'OK/okay/ok', 'I Love the 20s', \"New Year's Eve\", 'Weird Hill', 'Christmas Presents', 'Edible Arrangements', 'Thumbtacks And String', 'Star Wars Spoiler Generator', 'Ground vs Air', 'Brussels Sprouts Mandela Effect', 'Timeline of the Universe', 'Data Error', 'Flu Shot', 'AI Hiring Algorithm', 'Is it Christmas?', 'Group Chat Rules', 'How To Deliver Christmas Presents', 'Aurora Meaning', 'Hotel Room Party', 'The Time Before and After Land', 'Versus Bracket', 'Rey and Kylo', 'Machine Learning Captcha', 'Transit of Mercury', 'Recombination And Reionization', 'Voting Referendum', 'Software Updates', 'Screen Time', 'Terminator: Dark Fate', 'Emulation', 'Imagine Going Back in Time', 'Earthquake Early Warnings', 'Wardrobe', '53 Cards', 'Percent Milkfat', 'Faculty:Student Ratio', 'Chemistry Nobel', 'How Old', 'Cell Phone Functions', 'Hours Before Departure', 'College Athletes', 'Fresh Pears', 'Drone Fishing', 'Math Work', 'Mavis Beacon', 'Types of Approximation', 'Ksp 2', 'Prescience', 'Earth-Like Exoplanet', 'Foucault Pendulum', 'Unreachable State', 'Cryptic Wifi Networks', 'Throw', 'Game Show', 'Nice To E-Meet You', 'Dockless Roombas', 'How to Send a File', 'Well-Ordering Principle', 'Review', 'Conference Question', 'Serena Versus the Drones', 'Old Game Worlds', 'E Scooters', 'Geologic Time', 'Dark Matter', 'Cumulonimbus', 'Unpopular Opinions', 'Icon Swap', \"When I'm Back at a Keyboard\", 'Inbox', 'Spreadsheets', 'NWS Warnings', 'Expiration Date High Score', 'Gastroenterology', 'How Hacking Works', 'Flag Interpretation', 'First News Memory', 'Trained a Neural Net', 'Lunar Cycles', 'Shadow Biosphere', 'Coordinate Precision', 'Predictive Models', 'Reading in the Original', 'Motivated Reasoning Olympics', 'Stack', 'Millennials', 'Glacier', 'Chernobyl', 'Literary Opinions', 'An Apple a Day', 'Ken Burns Theory', 'Comments', 'Qualifiers', 'Diploma Legal Notes', 'Ufo', 'Swimming', 'Motivation', 'Effects of High Altitude', 'Westerns', 'A/B', 'XKeyboarCD', 'Alternate Histories', 'Cubesat Launch', 'Appendicitis', 'Waiting for the But', 'Heists And Escapes', 'Adjusting a Chair', 'Disk Usage', 'Dangerous Fields', 'UI vs UX', 'Reinvent the Wheel', 'Email Settings', 'Wanna See the Code?', 'Text Entry', 'Election Commentary', 'M87 Black Hole Size Comparison', 'Too Much Talking', 'EHT Black Hole Picture', 'Percentage Styles', 'Emojidome', 'Industry Nicknames', '1921 Fact Checker', 'New Robot', 'Panama Canal', 'Google Trends Maps', 'Luna 2', 'Space Mission Hearing', 'Meta Collecting', 'Size Venn Diagram', 'Light Pollution', 'Brain Hemispheres', 'Video Orientation', 'Normal Distribution', 'Differentiation and Integration', '.NORM Normal File Format', 'Plutonium', 'Launch Conditions', 'Physics Suppression', 'Night Shift', 'Opportunity Rover', 'Error Bars', 'Invisible Formatting', 'Carbonated Beverage Language Map', 'Launch Risk', 'Sharing Options', 'Modern OSI Model', 'Biff Tannen', 'Midcontinent Rift System', 'Internet Archive', 'Technical Analysis', 'Models of the Atom', 'Missal of Silos', 'Magnetic Pole', 'Thor Tools', 'Mattresses', 'Marsiforming', 'Short Selling', 'Reminders', 'Consensus New Year', 'Million, Billion, Trillion', 'Feathered Dinosaur Venn Diagram', 'Christmas Eve Eve', \"Schwarzschild's Cat\", 'Rocket Launch', 'History Department', 'arXiv', 'FDR', 'Laptop Issues', 'Mercator Projection', 'Middle Latitudes', 'Cohort and Age Effects', 'Alpha Centauri', 'Popper', 'Heist', 'Horror Movies 2', 'Update Your Address', 'Airplanes and Spaceships', 'Kilogram', 'Evaluating Tech Things', 'Indirect Detection', 'Trig Identities', 'Wishlist', 'Election Night', 'Challengers', 'Ballot Selfies', 'Who Sends the First Text?', \"I'm a Car\", 'Carnot Cycle', \"Barnard's Star\", 'Tectonics Game', 'Hygrometer', \"Modified Bayes' Theorem\", 'Rock Wall', 'Internal Monologues', 'Horror Movies', 'Bluetooth', 'Data Pipeline', 'Incoming Calls', 'Stanislav Petrov Day', 'Bad Opinions', '6/6 Time', 'Unfulfilling Toys', 'Curve-Fitting', 'Beverages', 'Trum-', 'Social Media Announcement', 'Sandboxing Cycle', 'Boathouses and Houseboats', \"Rolle's Theorem\", 'Frontiers', 'Sibling-in-Law', 'Begging the Question', 'Hazard Symbol', 'Supreme Court Bracket', 'Edgelord', 'Dark Matter Candidates', 'Equations', 'Repair or Replace', 'Word Puzzles', 'Pie Charts', 'Voting Software', 'Disaster Movie', 'Complex Numbers', 'Lightning Distance', 'Heat Index', 'Peer Review', 'Light Hacks', 'Y-Axis', 'Sports Champions', 'Software Development', 'Negative Results', 'An Apple for a Dollar', 'Wall Art', 'Stargazing 2', 'OEIS Submissions', 'New Phone Thread', 'JWST Delays', 'Rock', 'Thorough Analysis', \"Newton's Trajectories\", 'Update Notes', 'Hertzsprung-Russell Diagram', 'Irony Definition', 'Brookhaven RHIC', 'Customer Rewards', 'Attention Span', 'Sun and Earth', 'Presidential Succession', 'LeBron James and Stephen Curry', 'Clickbait-Corrected p-Value', 'xkcd Phone 2000', 'Selection Effect', 'GDPR', 'Business Update', 'Morning News', 'MC Hammer Age', 'Repairs', 'Fatal Crash Rate', 'SafetySat', 'Research Areas by Size and Countedness', 'Driving Cars', 'IMHO', 'Containers', 'Python Environment', 'River Border', 'Meteorologist', 'Misinterpretation', 'Clutter', 'Evangelism', 'Rickrolling Anniversary', 'Turkish Delight', 'History', 'Congressional Testimony', 'Paperwork', 'Friendly Questions', 'Right Click', 'Conversational Dynamics', 'Star Lore', 'Autogyros', 'Personal Data', 'Name Dominoes', 'Not Available', 'Robot Future', 'Violin Plots', 'Smart Home Security', 'Background Apps', 'Spatial Orientation', 'Namespace Land Rush', 'Generations', 'Interaction', 'Code Golf', 'The Simpsons', 'Self-Driving Issues', '2018 CVE List', 'Unification', 'Robots', 'Impostor Syndrome', 'The History of Unicode', 'Backpack Decisions', 'Super Bowl Watch Party', 'Chicken Pox and Name Statistics', 'Fruit Collider', 'Campaign Fundraising Emails', 'Night Sky', 'Hawaii', 'Scientific Paper Graph Quality', 'The End of the Rainbow', 'Universal Dreams', 'Memorable Quotes', 'Dying Gift', 'The Food Size Cycle', '2016 Election Map', 'Meltdown and Spectre', 'IATA Airport Abbreviations', 'Desert Golfing', '2018', 'Phone Security', 'Santa Facts', 'The True Meaning of Christmas', 'Virtual Assistant', 'Calendar Facts', 'Argument Timing', 'Seven Years', 'Tinder', 'Bad Code', 'Self-Driving Car Milestones', 'Solar Panels', 'Felsius', 'Interferometry', 'The Moon and the Great Wall', 'Emoji Sports', 'Interstellar Asteroid', 'NEXUS', 'How to Make Friends', 'Temperature Preferences', 'Nightmare Email Feature', 'Twitter Verification', 'A �', 'Thermostat', 'Defensive Profile', 'Sky Spotters', 'Digital Resource Lifespan', 'Credit Card Rewards', 'Immune System', 'Making Progress', 'Cast Iron Pan', 'Research Risks', 'Bun Trend', 'State Borders', 'Logical', 'Jet Lag', 'Ears', 'October 2017', 'Self Driving', 'Active Ingredients Only', 'Worrying Scientist Interviews', 'Real Estate', 'Thread', 'USB Cables', 'Obsolete Technology', 'What to Bring', 'xkcd Phone 6', 'Still in Use', 'Two Down, One to Go', 'Typing Notifications', 'Ensemble Model', 'Ringer Volume/Media Volume', 'Supervillain Plan', 'Color Models', 'Drone Training', 'Eclipse Review', 'Eclipse Birds', 'Earth Orbital Diagram', 'Eclipse Science', 'Eclipse Searches', 'Computers vs Humans', 'Geologic Faults', 'Email Reply', 'Backup Batteries', 'Bun Alert', 'Emoji Movie Reviews', 'Positive and Negative Reviews', 'Eclipse Flights', 'Physics Confession', \"Russell's Teapot\", 'Wifi vs Cellular', 'City Nicknames', 'Screenshots', 'Particle Properties', 'Quantum', 'Communicating', 'Sports Knowledge', '4th of July', 'Emoji Movie', 'Existence Proof', 'Telephoto', 'Refresh Types', 'Once Per Day', 'Election Map', 'Magnetohydrodynamics', 'Air Force Museum', 'Decades', 'Glacial Erratic', 'Dubious Study', 'Drone Problems', 'State Word Map', 'Voting Systems', 'Opening Crawl', 'Anti-Drone Eagles', 'Who?', 'Genetic Testing Results', 'Doctor Visit', 'Machine Learning', 'Rental Car', 'Okeanos', 'Random Obsessions', 'Lunch Order', 'Code Quality 3', 'Photo Library Management', 'Here to Help', 'ISS Solar Transit 2', 'Geochronology', 'ISS Solar Transit', 'Survivorship Bias', 'Birdwatching', '7 Eleven', 'Identification Chart', 'Hottest Editors', 'Existential Bug Reports', 'Incinerator', 'Security Advice', 'Sweet 16', 'Rayleigh Scattering', 'Incognito Mode', 'Mispronunciation', 'Flag', 'Color Pattern', 'Vomiting Emoji', 'Onboarding', 'Best-Tasting Colors', 'Chat Systems', 'xkcd Phone 5', 'Hacking', 'Listening', 'Borrow Your Laptop', 'Unpublished Discoveries', 'Video Content', 'Location Reviews', 'Phone', 'Decision Paralysis', 'Chess Notation', 'Bad Map Projection: Time Zones', 'Box Plot', 'Stardew Valley', 'Focus Knob', 'All You Can Eat', 'Fire', 'Soda Sugar Comparisons', 'Bird/Plane/Superman', 'Telescopes: Refractor vs Reflector', 'Sad', 'Phone Numbers', 'Barge', 'Voice Commands', 'Trash', 'Wifi', 'Bad Map Projection: Liquid Resize', 'Emails', 'Team Chat', 'Artifacts', 'Appliance Repair', '2017', 'Interest Timescales', 'Dear Diary', 'Reindeer', 'Things You Learn', 'Adjective Foods', 'Negativity', 'Startup Opportunity', 'It Was I', 'UI Change', 'Never Seen Star Wars', 'Settling', 'US State Names', 'Apple Spectrum', 'Baby Post', 'XKCDE', 'Catcalling', 'Moving Boxes', 'Blame', 'TV Problems', 'British Map', 'Astrophysics', 'November 2016', \"I'm With Her\", 'Old Days', 'Tornado Safety Tips', 'Thumb War', 'Interplanetary Experience', 'Movie Folder', 'Life Goals', 'Mushrooms', 'Future Archaeology', 'Spider Paleontology', 'Making Friends', 'Record Scratch', 'Metabolism', 'Coffee', 'Will It Work', 'Work', 'Rosetta', 'Fixing Problems', 'Moon Shapes', 'Datacenter Scale', 'Manhattan Project', 'Fashion Police and Grammar Police', 'Reductionism', 'Solar Spectrum', 'Earth Temperature Timeline', 'Wrong', 'Starshade', 'Migrating Geese', 'Cron Mail', 'Number of Computers', 'Unicode', 'Linear Regression', 'Proofs', 'Meteorite Identification', 'Debugging', 'Business Idea', 'Horses', 'Superzoom', 'Backups', 'Pyramid Honey', 'Time Travel Thesis', 'Household Tips', 'Volcano Types', '50 ccs', 'Politifact', 'Snapchat', 'Walking Into Things', 'Inflection', 'Dehydration', 'xkcd Phone 4', 'Genetic Testing', 'Pokémon Go', 'Gnome Ann', 'Juno', 'Home Itch Remedies', 'Speed and Danger', 'New Bug', 'Local News', 'Theft Quadrants', 'Intervocalic Fortition', 'AI Research', 'Code Quality 2', 'Phishing License', 'Oxidation', 'Man Page', 'Optimization', 'Time-Tracking Software', 'My Friend Catherine', 'Map Age Guide', 'World War III+', 'Feel Old', 'Patch', 'Rainbow', 'Digital Data', 'Bun', 'Laser Products', 'Black Hole', 'Substitutions 3', 'Recent Searches', 'Contrails', 'Full-Width Justification', 'Message in a Bottle', 'Adult', 'Timeline of Bicycle Design', 'Women on 20s', 'Arcane Bullshit', 'Laws of Physics', 'Planespotting', 'Singularity', 'Algorithms', 'Brain Upload', 'City Talk Pages', 'Mycology', 'Garden', 'Jack and Jill', 'Podium', 'Captain Speaking', 'Tire Swing', 'Estimating Time', 'Insanity', 'It Begins', 'Doomsday Clock', 'Universal Install Script', 'United States Map', 'Conditionals', 'Robotic Garage', 'Baby', 'Pipelines', 'Famous Duos', 'Diacritics', 'Twitter Bot', 'Toasts', 'Stargazing', 'Degrees', 'Gravitational Waves', 'Hot Dogs', 'Super Bowl Context', 'To Taste', 'Backslashes', 'Salt Mine', 'XKCD Stack', 'Birdsong', 'In Case of Emergency', 'Possible Undiscovered Planets', 'Palindrome', 'Longer Than Usual', 'Quadcopter', 'Tools', 'Magnus', 'Woosh', 'Judgment Day', 'Substitutions 2', '2016', '2016 Conversation Guide', 'Henge', 'Fixion', 'Christmas Settings', 'Watson Medical Algorithm', 'Cold Medicine', 'Time Capsule', 'Lunch', 'Red Car', 'Kites', 'The Three Laws of Robotics', 'Colds', 'Baking Soda and Vinegar', 'Fire Ants', 'Food Combinations', 'Hoverboard', 'Supreme Court', 'Five-Day Forecast', 'DNA', 'Snakes', 'Flashlights', 'Linguistics Club', 'Isolation', 'MarketWatch', 'Water Delivery', 'Salvage', 'Git', 'Launch Status Check', '30 Days Hath September', 'Human Subjects', 'Play-By-Play', 'Overthinking', \"Bell's Theorem\", 'The Source', 'Frankenstein', 'Hardware Reductionism', 'Food Rule', 'Keyboard Problems', 'Similarities', 'Moments of Inspiration', 'NASA Press Conference', 'Picture a Grassy Field', 'Birthday', 'Travel Ghost', 'Tech Loops', 'Squirrelphone', 'Advent', 'I Could Care Less', 'Footprints', 'Trouble for Science', 'Cyberintelligence', 'xkcd Survey', 'Car Model Names', 'Engineer Syllogism', 'Magic Tree', 'Synonym Movies 2', 'Kitchen Tips', 'Board Game', 'Back Seat', 'Every Seven Seconds', 'Synonym Movies', 'I in Team', 'Water Phase Diagram', 'Bubblegum', 'Driving', 'Vet', 'Ozymandias', 'The Sky', 'Exoplanet Names 2', 'Spice Girls', 'Public Key', 'Rulebook', 'Pluto', 'Episode VII', 'xkcd Phone 3', '90s Kid', 'Solar System Questions', 'Tamagotchi Hive', 'Strengths and Weaknesses', 'Margaret', 'Team Effort', 'Scheduling Conflict', 'Voice', 'Hemingway', 'Planning', 'Lyrics', 'Types', 'The Martian', 'Words for Pets', 'Beer', 'Antique Factory', 'New Horizons', 'The BDLPSWDKS Effect', 'Keyboard Mash', 'Bracket', 'Vodka', 'Humans', 'Placebo Blocker', 'Emojic 8 Ball', 'Dimensions', 'Microdrones', 'Astronomy', 'Sword in the Stone', 'Degree-Off', 'Venus', 'Typical Morning Routine', 'Spectroscopy', 'Win by Induction', 'Basketball Earth', 'PermaCal', 'Code Quality', 'Horoscopes', 'Spice Girl', 'Napoleon', 'Scenery Cheat Sheet', 'Operating Systems', 'Metaball', 'xkcloud', 'Ontological Argument', 'Opportunity', 'Squirrel Plan', 'Wasted Time', 'Mysteries', 'Upside-Down Map', 'Arbitrage', 'Terry Pratchett', 'New Products', 'Art Project', 'Hard Reboot', 'Insurance', 'Meeting', 'Dress Color', 'Stories of the Past and Future', 'Atoms', 'Fundamental Forces', 'Flowcharts', 'Tornado', 'Vacuum', 'Friendship', 'Apollo Speeches', 'Quotative Like', '#NowPlaying', 'API', 'Super Bowl', 'Troubleshooting', 'P-Values', 'Star Wars', 'Ceres', 'Technically', 'Screws', 'Location Sharing', 'Geography', 'Gut Fauna', 'Kix', 'UV', 'Worrying', 'Email', 'Phone Checking', 'xkcd Phone 2', 'Santa', 'Altitude', 'Blind Trials', 'Payloads', 'SMFW', 'Documents', 'Small Moon', 'Feedback', 'On the Moon', 'Trolley Problem', 'Done', 'fMRI', 'Jurassic World', 'Background Screens', 'AI-Box Experiment', 'Red Rover', 'Question', 'Meta-Analysis', 'Landing', 'Efficiency', 'Cloud', 'Language Nerd', 'Chemistry', 'Turnabout', 'Geese', 'Rack Unit', 'Houston', 'Higgs Boson', 'Orb Hammer', 'Presidential Alert', 'Where Do Birds Go', 'Lightsaber', 'The Sake of Argument', 'Marriage', 'Proteins', 'Data', 'Move Fast and Break Things', 'iOS Keyboard', 'Reduce Your Payments', 'Tasks', 'En Garde', 'Conversation', 'My Phone is Dying', 'Future Self', 'Watches', 'On the Phone', 'Horse', 'Seven', 'Pixels', 'Ballooning', 'Writing Skills', 'Suddenly Popular', 'Teenage Mutant Ninja Turtles', 'Loop', 'California', 'Query', 'March of the Penguins', 'Worst Hurricane', 'Universal Converter Box', 'Meteor', 'Quantum Vacuum Virtual Plasma', 'Thesis Defense', 'Harpoons', 'New', 'D.B. Cooper', 'Chaos', 'Snake Facts', 'Luke', 'Actors', 'Power Cord', 'Superm*n', 'Timeghost', 'Dominant Players', 'Darkness', 'Research Ethics', 'Surface Area', 'Subduction License', 'Clumsy Foreshadowing', 'People are Stupid', 'Throwing Rocks', 'Krypton', 'Magic Words', 'Rocket Packs', 'Margin', 'Manual for Civilization', '4.5 Degrees', 'Turbine', 'Fish', 'Jump', 'Astronaut Vandalism', 'Urn', 'Screenshot', 'Smartwatches', 'Brightness', 'President', 'TMI', 'One Of The', 'Installing', 'Train', 'Inflation', \"Like I'm Five\", 'xkcd Phone', 'Morse Code', 'Google Announcement', 'Old Files', 'Phone Alarm', 'NRO', 'Free Speech', 'Orbital Mechanics', 'Airplane Message', 'Heartbleed Explanation', 'Heartbleed', 'Cosmologist on a Tire Swing', 'Metamaterials', 'Lorenz', \"Shouldn't Be Hard\", 'Before the Internet', 't Distribution', 'Career', 'Answers', 'Digits', 'Manuals', 'Ancient Stars', 'Types of Editors', 'Unique Date', 'When You Assume', 'Land Mammals', 'Hack', 'Transformers', 'Now', 'Second', 'First Date', 'Slippery Slope', 'Frequency', 'Kola Borehole', 'Standing', 'Update', 'Mobile Marketing', 'Sharks', 'Rejection', 'Weather', 'Protocol', 'Winter', 'Cold', 'Walmart', 'Automation', 'Actually', 'Theft', 'Inexplicable', 'Questions for God', 'Photos', 'Regex Golf', 'Haskell', '2014', 'Goldbach Conjectures', 'Infinite Scrolling', 'Christmas Lights', 'Buzzfeed Christmas', 'Sigil Cycle', 'Undocumented Feature', 'Glass Trolling', 'Profile Info', 'Year in Review', 'File Extensions', 'Galilean Moons', \"I Don't Own a TV\", 'Exoplanet Neighborhood', 'Oort Cloud', 'Git Commit', 'New Study', 'Telescope Names', 'Job Interview', 'Pi vs. Tau', 'Shoot for the Moon', 'Syllable Planning', 'Simple Answers', 'Substitutions', 'Puzzle', 'Encryptic', 'Third Way', 'Improved Keyboard', 'Headlines', 'Monty Hall', 'Minifigs', 'Mystery News', 'Reverse Identity Theft', 'Giraffes', 'Ayn Random', 'Angular Size', 'int(pi)', 'Open Letter', 'Tall Infographics', 'Shadowfacts', 'Highlighting', 'Functional', 'Privacy Opinions', 'Alternate Universe', 'Mess', 'Halting Problem', 'Juicer', 'Slideshow', 'Reassuring', 'Unquote', 'Shake That', 'LD50', 'Bee Orchid', 'First', 'Monster', 'Questions', 'Columbus', 'Preferred Chat System', 'Exoplanet Names', 'Increased Risk', 'Anti-Glass', 'Old Accounts', 'Meteor Showers', 'Sphere', 'The Mother of All Suspicious Files', 'Pale Blue Dot', '10-Day Forecast', 'Six Words', 'Snare', 'Scary Names', 'Annoying Ringtone Champion', 'Quantum Mechanics', 'Social Media', 'Enlightenment', 'QR Code', 'Seashell', 'Settled', 'Douglas Engelbart (1925-2013)', 'Relativity', 'Realistic Criteria', 'Habitable Zone', 'Polar/Cartesian', 'Screensaver', 'Prometheus', 'The Pace of Modern Life', 'Balloon Internet', 'Ice Sheets', 'Council of 300', 'Dwarf Fortress', 'Pastime', 'Nomenclature', 'Hipsters', 'Reports', 'Doors of Durin', 'Cells', 'Sticks and Stones', 'Insight', 'Geoguessr', 'Combination Vision Test', 'Interstellar Memes', 'Birds and Dinosaurs', \"I'm So Random\", 'Encoding', 'Footnote Labyrinths', 'AirAware', 'Einstein', 'Is It Worth the Time?', 'Detail', 'Time Machines', 'Girls and Boys', 'Integration by Parts', 'Authorization', 'Silence', 'Geologist', 'All Adobe Updates', 'Subways', 'Flowchart', 'Stratigraphic Record', 'Externalities', 'Humming', 'The Past', 'Time', 'Voyager 1', 'Bonding', 'Aspect Ratio', 'Bumblebees', 'Ineffective Sorts', 'Circumference Formula', 'Rose Petals', 'Rembrandt Photo', 'PGP', 'Virus Venn Diagram', 'ISO 8601', 'Pickup Artists', 'Time Robot', 'Those Not Present', 'Moving Sidewalks', 'App', 'Steroids', 'Workflow', 'Perl Problems', 'Bridge', 'Expedition', 'tar', 'Star Trek into Darkness', 'Argument', 'Amazon', 'Home Alone', 'Debugger', 'Log Scale', 'Hand Sanitizer', 'Drop Those Pounds', 'Countdown', 'Rubber Sheet', 'Sick Day', 'Conditioning', 'Kolmogorov Directions', 'Resolution', 'Proof', 'Communion', 'Tests', 'Instagram', 'Broomstick', 'Nothing to Offer', 'Evolving', 'Honest', 'Sky Color', 'Tags', 'Location', 'Coverage', 'Two Years', 'Calendar of Meaningful Dates', 'Rubber and Glue', 'Heatmap', '\\u202eLTR', 'Broken Mirror', 'Arachnoneurology', 'Logic Boat', 'Up Goer Five', 'Frequentists vs. Bayesians', 'Math', 'Poll Watching', 'Cell Number', 'Fifty Shades', 'Congress', 'Epsilon and Zeta', 'Objects In Mirror', 'Law of Drama', 'The Universal Label', 'Electoral Precedent', 'Identity', 'Blurring the Line', 'Undoing', 'Microsoft', 'My Sky', 'Traffic Lights', 'Sky', 'Metallurgy', 'Killed In Action', 'Think Logically', 'Premiere', 'Click and Drag', 'Refrigerator', 'Cautionary Ghost', 'Sports Cheat Sheet', 'ADD', 'License Plate', 'Feathers', 'Nine', 'Fastest-Growing', 'Sketchiness', 'Vows', 'Tuesdays', 'Star Ratings', \"A Hypochondriac's Nightmare\", 'Clinically Studied Ingredient', 'Crazy Straws', 'Interview', 'Forget', 'Michael Phelps', 'Curiosity', 'Formal Languages', 'Internal Monologue', 'Five Years', 'Cirith Ungol', 'Eyelash Wish Log', 'ContextBot', 'Server Problem', 'Writing Styles', 'Geology', 'Argument Victory', 'Visual Field', 'United Shapes', 'Knights', 'Home Organization', 'Groundhog Day', 'Warning', 'Moon Landing', 'Weekend', 'Seventies', 'Exoplanets', 'Words for Small Sets', 'Alphabet', 'Swiftkey', 'Pressures', 'Laundry', 'Shoes', 'Front Door', 'Kill Hitler', 'Budget News', 'EST', 'Crowdsourcing', 'Bel-Air', 'Old-Timers', 'Klout', 'Felidae', 'Kickstarter', 'The\\u2009bacon', 'Ten Thousand', \"Every Major's Terrible\", 'Visited', 'Forgot Algebra', 'Bookshelf', 'Emotion', 'Approximations', 'Skynet', 'Constraints', 'Romney Quiz', 'Ablogalypse', 'Never', 'Whites of Their Eyes', 'Lakes and Oceans', 'RuBisCO', 'Fountain', 'Umwelt', 'Reviews', 'Cadbury Eggs', 'Share Buttons', 'Formal Logic', 'Networking', 's/keyboard/leopard/', 'Keyed', 'Drawing Stars', 'Communication', 'Pickup Artist', 'Compare and Contrast', 'Tumblr', 'Error Code', 'Late-Night PBS', 'So It Has Come To This', 'Business Plan', 'Orion Nebula', 'First Post', 'Good Cop, Dadaist Cop', 'Backward in Time', 'Valentine Dilemma', 'Kerning', 'Car Problems', 'Wake Up Sheeple', 'Wrong Superhero', 'Baby Names', 'Etymology-Man', 'Sigh', 'Suckville', 'Sustainable', 'Sloppier Than Fiction', 'SOPA', 'Batman', 'Adam and Eve', 'Game AIs', 'AAAAAA', '1000 Comics', 'Cougars', '2012', 'Wait Wait', 'Making Things Difficult', 'Coinstar', 'Advent Calendar', 'Brand Identity', 'Mnemonics', 'Phantom Menace', 'Plastic Bags', 'Cryogenics', 'Tradition', 'Potential', 'Drinking Fountains', 'Percentage Points', 'Space Launch System', 'Privacy', 'Set Theory', 'Porn Folder', 'Money', 'Wisdom of the Ancients', 'Citogenesis', 'Map Projections', 'Sail', 'Occulting Telescope', 'The General Problem', 'MTV Generation', 'November', 'Alternative Literature', 'The Important Field', 'Delta-P', 'Everything', 'Prairie', 'Jet Fuel', 'Elements', 'Dorm Poster', 'X11', 'The Corliss Resolution', 'Eternal Flame', 'Subliminal', 'Caroling', 'Hotels', 'Development', 'Sharing', 'Neutrinos', 'Chin-Up Bar', '1 to 10', 'Stud Finder', 'Working', 'Mystery Solved', 'File Transfer', 'AI', 'Investing', 'Family Decals', \"I'm Sorry\", 'Hurricane Names', 'Empirical', 'Juggling', 'Depth Perception', 'Oversight', 'Arrow', 'T-Cells', 'TornadoGuard', 'Password Strength', 'Missed Connections', 'Mac/PC', 'Tattoo', 'CIA', 'Lanes', 'Days of the Week', 'Speculation', 'Mimic Octopus', 'Standards', 'Time Vulture', 'Cell Phones', '3D Printer', 'Strunk and White', 'Fight Club', 'Delivery Notification', 'YouTube Parties', 'Tween Bromance', 'Google+', 'Hofstadter', 'Unpickable', 'Connoisseur', 'Ice', 'Core', 'Manual Override', 'Magic School Bus', 'Permanence', 'Worst-Case Shopping', 'The Cloud', 'Ages', 'Advertising Discovery', 'Homeownership', 'Sports', 'Extended Mind', 'Darmok and Jalad', 'Temperature', 'Religions', 'Number Line', 'Chain of Command', 'Elevator Inspection', 'Marie Curie', 'Teaching Physics', 'Progeny', '65 Years', 'Null Hypothesis', 'Movie Ages', 'Etymology', 'Turtles', 'Heaven', 'Future Timeline', 'Craigslist Apartments', 'Recycling', 'Rogers St.', 'Pain Rating', 'Significant', 'Probability', 'Headache', 'Lamp', 'Model Rail', 'Beauty', 'Trapped', '2009 Called', 'Time Management', 'FPS Mod', 'Fairy Tales', 'Charity', 'Advertising', 'Server Attention Span', 'Nolan Chart', 'Herpetology', 'Compass and Straightedge', 'Nanobots', 'Flying Cars', 'Major in the Universe', 'Let Go', 'Wisdom Teeth', 'Never Do This', '(', 'Milk', 'Archimedes', 'Trochee Fixation', '1999', 'Learning to Cook', 'Consecutive Vowels', 'Local g', 'Na', 'World According to Americans', 'Complex Conjugate', '3D', 'Stingray Nebula', 'Dental Nerve', 'Modern History', 'Good Code', 'Misconceptions', 'Mark', 'Audiophiles', 'Serious', 'Explorers', 'Incident', 'Coupon Code', 'Sickness', 'Tree', 'Wikileaks', 'Convincing', 'Tic-Tac-Toe', 'Weather Radar', 'Genetic Analysis', 'Arsenic-Based Life', 'Positive Attitude', 'My Business Idea', 'Guest Week: Zach Weiner (SMBC)', 'Guest Week: Jeffrey Rowland (Overcompensating)', 'Guest Week: Bill Amend (FoxTrot)', 'Guest Week: David Troupes (Buttercup Festival)', 'Guest Week: Jeph Jacques (Questionable Content)', 'Five-Minute Comics: Part 3', 'Five-Minute Comics: Part 2', 'Five-Minute Comics: Part 1', 'Illness', 'Mutual', 'Applied Math', 'Mu', 'Diode', 'One-Liners', 'Glass', 'Starlight', 'Constructive', 'Los Alamos', 'The Economic Argument', 'Connected', 'Tech Support', 'Paradise City', 'Pumpkin Carving', 'Airfoil', 'Online Communities 2', 'Golden Hammer', 'Beautiful Dream', 'Stephen Hawking', 'Adjectives', 'debian-main', 'Bad Ex', 'Conditional Risk', 'Inside Joke', 'Physicists', 'Password Reuse', 'Leaving', 'Control', 'Showdown', 'The Carriage', 'Orbiter', 'Exoplanets', 'Open Mic Night', 'Falling Asleep', \"I Don't Want Directions\", 'Desecration', 'Ahead Stop', 'Sample', 'Anxiety', 'Scheduling', 'Pore Strips', 'Still No Sleep', 'Savannah Ancestry', 'Atheists', 'University Website', 'Frogger', 'Period Speech', 'All the Girls', 'War', '1996', 'Temper', 'Green Flash', 'Dilution', 'One Two', 'Workaround', 'Analogies', 'DFS', 'Moria', '3x9', 'Raptor Fences', 'Toot', 'Public Opinion', 'Interdisciplinary', 'Dependencies', 'Southern Half', 'Phobia', 'Swimsuit Issue', 'Book Burning', 'Study', 'Worst-Case Scenario', 'Geeks and Nerds', 'Birth', 'Dyslexics', 'Walkthrough', 'Infrastructures', 'Campfire', 'Blogging', 'The Tell-Tale Beat', 'Malamanteau', 'Incision', 'Yogurt', 'Cemetery', 'Floor', 'Outbreak', 'Eagle', 'HDTV', 'Desert Island', 'Circuit Diagram', 'Laser Pointer', 'iPad', 'Trade Expert', 'Seat Selection', 'Literally', 'Hell', 'Seismic Waves', 'Computer Problems', 'Flatland', 'Recipes', 'Brain Worms', 'The Flake Equation', 'Furtive', 'Time Machine', 'Numbers', 'Porn For Women', 'GeoIP', 'Single Ladies', 'Seismograph', 'Collatz Conjecture', 'I Am', 'Sex Dice', 'Joshing', 'Freedom', 'Devotion to Duty', 'Principle of Explosion', 'Honor Societies', 'Snow Tracking', 'Science Valentine', 'Complexion', 'Trimester', 'You Hang Up First', 'Tensile vs. Shear Strength', 'Strip Games', 'Spirit', 'Retro Virus', \"Children's Fantasy\", 'Dirty Harry', 'MicroSD', 'Semicontrolled Demolition', 'FIRST Design', 'Self-Description', 'Dimensional Analysis', 'Admin Mourning', 'G-Spot', 'We Get It', 'Science Montage', 'Force', 'Gravity Wells', 'December 25th', 'Christmas Plans', 'Researcher Translation', 'Asshole', 'Abstraction', 'Revolutionary', 'Natural Parenting', 'The Sun', 'Suggestions', 'Stephen and Me', 'Spinal Tap Amps', 'Experiment', 'Pandora', 'SkiFree', 'Silent Hammer', 'Prudence', 'Academia vs. Business', 'Sagan-Man', 'iPhone or Droid', 'Two-Party System', 'Sympathy', 'Lego', 'Orbitals', 'Movie Narrative Charts', 'October 30th', 'Climbing', 'Nachos', \"So Bad It's Worse\", 'More Accurate', 'Bag Check', 'Nowhere', 'Static', 'Fall Foliage', 'Scary', 'Conversations', 'RPS', 'Surgery', 'Ohm', 'Creepy', 'Free', 'Tornado Hunter', 'Lincoln-Douglas', 'The Search', 'Scribblenauts', 'Brontosaurus', 'Locke and Demosthenes', 'Date', 'Blockbuster Mining', 'Suspicion', 'Anatomy Text', 'Time Travel', 'Skins', 'Psychic', 'Tech Support Cheat Sheet', 'Newton and Leibniz', 'Collections', 'Branding', 'Oregon', 'Haiku Proof', 'Superlative', 'Wings', 'Supported Features', 'Asteroid', 'Understocked', 'Lease', 'Avoidance', 'Woodpecker', 'Threesome', 'Estimation', 'Disaster Voyeurism', 'Sheeple', 'Tab Explosion', 'Form', '2038', 'Cutting Edge', 'Extrapolating', 'Qwertial Aphasia', 'Idiocracy', 'Overstimulated', 'Game Theory', 'Android Boyfriend', 'Apocalypse', 'Porn', 'Addiction', 'Latitude', 'Android Girlfriend', 'Period', 'Voynich Manuscript', 'Drama', 'Troll Slayer', 'Papyrus', 'Designated Drivers', 'Pep Rally', 'Crime Scene', 'Mission to Culture', 'Outreach', 'Unsatisfied', 'CNR', 'Brakes', 'The Race: Part 5', 'The Race: Part 4', 'The Race: Part 3', 'The Race: Part 2', 'The Race: Part 1', 'Packages', 'Tag Combination', 'Swine Flu', 'Parental Trolling', 'Together', \"Can't Sleep\", 'New Car', 'Borders', 'Well 2', 'Urgent Mission', 'Matrix Revisited', 'Security Question', 'Crossbows', 'Fermirotica', 'Parking', 'Well', 'Lithium Batteries', 'No Pun Intended', '1000 Times', 'Students', 'Alternative Energy Revolution', 'Two Mirrors', 'Not Enough Work', 'Pirate Bay', 'Correlation', 'Etch-a-Sketch', 'Density', \"Westley's a Dick\", 'Kindle', 'Simple', 'Music DRM', 'Neutrality Schmeutrality', 'Pep Talk', 'Sierpinski Valentine', 'Cover-Up', 'TED Talk', 'Base System', 'Boyfriend', 'Security', 'Ducklings', 'Space Elevators', 'It Might Be Cool', 'Genetic Algorithms', 'Laptop Hell', 'Piano', 'Contingency Plan', \"I'm An Idiot\", 'Sledding Discussion', 'Windows 7', 'Keynote', 'Converting to Metric', \"I Know You're Listening\", 'Party', 'Decline', 'Google Trends', '2008 Christmas Special', 'Cuttlefish', '11th Grade', 'Flow Charts', 'Marshmallow Gun', 'Wood Chips', 'No One Must Know', 'Simultaneous', 'Friends', 'Alternate Currency', 'Sleet', 'Egg Drop Failure', 'Induced Current', 'Drapes', 'Experimentation', 'Theft of the Magi', 'A Bunch of Rocks', 'Legal Hacks', 'Terminology', 'Dark Flow', 'Faust 2.0', 'Election', 'Scantron', 'Secretary: Part 5', 'Secretary: Part 4', 'Secretary: Part 3', 'Secretary: Part 2', 'Secretary: Part 1', 'Actuarial', 'Scrabble', 'Twitter', 'Morning Routine', 'Going West', 'Steal This Comic', 'Numerical Sex Positions', 'I am Not a Ninja', 'Depth', 'Flash Games', 'Fiction Rule of Thumb', 'Height', 'Listen to Yourself', 'Spore', 'Tones', 'The Staple Madness', 'Typewriter', 'One-Sided', 'Further Boomerang Difficulties', 'Turn-On', 'Still Raw', 'House of Pancakes', 'Aversion Fads', 'The End is Not for a While', 'Improvised', 'Fetishes', 'X Girls Y Cups', 'Moving', 'Quantum Teleportation', 'RBA', 'Voting Machines', 'Freemanic Paracusia', 'Google Maps', 'Paleontology', 'Holy Ghost', 'Regrets', 'Frustration', 'Cautionary', 'Hats', 'Rewiring', 'Upcoming Hurricanes', 'Mission', 'Impostor', 'The Sea', 'Things Fall Apart', 'Good Morning', 'Too Old For This Shit', 'In Popular Culture', 'I Am Not Good with Boomerangs', 'Macgyver Gets Lazy', 'Know Your Vines', 'xkcd Loves the Discovery Channel', 'Babies', 'Road Rage', 'Thinking Ahead', 'Internet Argument', 'SUV', 'How it Happened', 'Purity', 'xkcd Goes to the Airport', 'Journal 5', 'Journal 4', 'Delivery', 'Every Damn Morning', 'Fantasy', 'Starwatching', 'Bad Timing', 'Geohashing', 'Fortune Cookies', 'Security Holes', 'Finish Line', 'A Better Idea', 'Making Hash Browns', 'Jealousy', 'Forks and Spoons', 'Stove Ownership', 'The Man Who Fell Sideways', 'Zealous Autoconfig', 'Restraining Order', 'Mistranslations', 'New Pet', 'Startled', 'Techno', 'Math Paper', 'Electric Skateboard (Double Comic)', 'Overqualified', 'Cheap GPS', 'Venting', 'Journal 3', 'Convincing Pickup Line', '1,000 Miles North', 'Large Hadron Collider', 'Important Life Lesson', 'Travelling Salesman Problem', 'Tap That Ass', 'Unscientific', 'The Ring', 'Morning', 'Kilobyte', 'Ultimate Game', 'Making Rules', 'Anti-Mindvirus', 'Nightmares', 'Keeping Time', 'Fuck Grapefruit', 'Advanced Technology', 'Duty Calls', 'How it Works', 'The Drake Equation', 'Helping', 'Trebuchet', 'Mobius Battle', 'Emoticon', 'Forgetting', 'Real Programmers', 'Journal 2', 'Bug', 'Pod Bay Doors', 'Journal', 'The Data So Far', 'To Be Wanted', 'Compiler Complaint', 'Redwall', 'Dangers', 'Bass', 'Fandom', 'Your Mom', 'Slides', 'Responsible Behavior', 'Reset', 'Blade Runner', 'Christmas Back Home', 'Writers Strike', 'Rock Band', 'Loud Party', 'Flies', 'Nerd Sniping', 'Couple', 'Startling', 'Python', 'Far Away', 'Trolling', 'Network', 'Success', 'Close to You', 'Brick Archway', 'Diet Coke+Mentos', '1337: Part 5', '1337: Part 4', '1337: Part 3', '1337: Part 2', '1337: Part 1', 'Fight', 'Classic', 'Future', 'Post Office Showdown', 'Priorities', 'Mattress', 'Wasteland', 'Getting Out of Hand', 'Gyroscopes', 'Photoshops', 'Indecision', 'Turing Test', 'Eggs', 'Exploits of a Mom', 'Effect an Effect', 'A-Minus-Minus', 'Tapping', 'Ballmer Peak', 'Pix Plz', 'Thighs', '28-Hour Day', 'Engineering Hubris', 'Nostalgia', \"That Lovin' Feelin'\", 'Loud Sex', 'Braille', 'Dating Pools', 'Insomnia', 'With Apologies to Robert Frost', 'Action Movies', 'Commitment', 'Shopping Teams', 'Interesting Life', 'Excessive Quotation', 'Orphaned Projects', 'Rule 34', 'Nighttime Stories', 'Compiling', 'Names', 'Limerick', 'Facebook', 'Aeris Dies', 'Tesla Coil', 'Lisp Cycles', 'Tony Hawk', 'DNE', 'Bookstore', 'RTFM', 'goto', 'Dignified', 'Fucking Blue Shells', 'Alone', 'Elevator', 'NP-Complete', 'All Your Base', 'Wikipedian Protester', 'Tape Measure', 'Projection', 'Organic Fuel', 'Online Package Tracking', 'Librarians', 'Pickup Lines', 'Black Hat Support', 'Long Light', 'Fixed Width', 'Thoughts', 'With Apologies to The Who', 'Electromagnetic Spectrum', 'Linux User at Best Buy', 'Powers of One', 'Merlin', 'TCMP', 'Choices: Part 5', 'Choices: Part 4', 'Choices: Part 3', 'Choices: Part 2', 'Choices: Part 1', 'Certainty', 'IN UR REALITY', 'Regarding Mussolini', 'The Glass Necklace', 'Clichéd Exchanges', 'Conspiracy Theories', 'Code Talkers', 'Online Communities', 'Subjectivity', 'Comic Fragment', 'Highway Engineer Pranks', 'Escalators', 'CD Tray Fight', 'Snopes', 'Chess Photo', 'Hypotheticals', 'Factoring the Time', 'Labyrinth Puzzle', 'Floor Tiles', 'Tabletop Roleplaying', 'Appropriate Term', 'The Difference', 'Battle Room', 'Dream Girl', 'Blagofaire', 'Pet Peeve #114', 'Keyboards are Disgusting', 'Collecting Double-Takes', 'Kite', 'Escape Artist', 'A New CAPTCHA Approach', 'Chess Enlightenment', 'Cat Proximity', 'Hamiltonian', 'Graffiti', 'Resonance', 'Color Codes', 'Swingset', 'Open Source', 'Lisp', \"Valentine's Day\", 'Small Talk', 'Random Number', 'Philosophy', 'Blanket Fort', 'Nintendo Surgeon', 'e to the pi Minus pi', 'Romantic Drama Equation', 'Letting Go', 'The Problem with Wikipedia', 'Ghostbusters Marathon', 'Brain', 'Hamster Ball Heist', \"90's Flowchart\", 'Kayak', 'Regular Expressions', 'What xkcd Means', 'Reno Rhymes', 'Candy Button Paper', 'America', 'Hallucinations', 'YouTube', 'Christmas GPS', 'Bill Nye', 'Right-Hand Rule', 'Perspective', 'Ninja Turtles', 'Command Line Fu', 'Map of the Internet', 'Penises', 'The Perfect Sound', 'Working for Google', 'Lojban', 'IPoD', 'Exercise', 'Reload', 'The Familiar', 'Console Lines', 'Wikifriends', 'Matrix Transform', 'Snacktime Rules', 'Nash', 'Interblag', 'Canada', 'e to the pi times i', 'Not Really Into Pokemon', 'Alice and Bob', 'Before Sunrise', 'Automatic Doors', \"That's What SHE Said\", 'Movie Seating', 'Skateboarding is Not a Crime', 'String Theory', 'Turn Back', 'Words that End in GRY', 'Reverse Euphemisms', 'Nihilism', 'Misusing Slang', 'Turn Signals', \"Playing Devil's Advocate to Win\", 'Donald Knuth', 'Angular Momentum', 'Accident', 'Penny Arcade Parody', 'Boombox', 'Six Months', 'Filler Art', 'Commented', 'Search History', 'Beliefs', 'Cryptography', 'Hamster Ball', 'Mario', 'Grownups', 'Sandwich', 'Mispronouncing', 'A Way So Familiar', 'Join Myspace', 'Parody Week: Dinosaur Comics', 'Parody Week: A Softer World', 'Parody Week: TFD and Natalie Dee', 'Parody Week: Megatokyo', 'Parody Week: Achewood', 'Delicious', 'I Have Owned Two Electric Skateboards', 'Pointers', 'Dreams', 'Science Fair', 'Substitute', 'Myspace', 'The Raven', 'Music Knowledge', 'Fans', 'Julia Stiles', 'Content Protection', 'dPain over dt', 'The Fast and the Furious', 'Red Spiders Cometh', 'Marketing Interview', 'Blogofractal', 'Centrifugal Force', 'Quirky Girls', 'Balloon', 'Dating Service', 'Worst Band Name Ever', '50 Ways', 'Pong', 'City', 'Meerkat', 'Computational Linguists', 'Riemann-Zeta', 'Baring My Heart', 'Firefox and Witchcraft - The Connection?', 'Clark Gable', 'Spoiler Alert', 'M.C. Hammer Slide', 'Snakes on a Plane! 2', 'Wright Brothers', 'Parallel Universe', 'Find You', 'Moral Relativity', 'Back to the Future', 'Laser Scope', 'Family Circus', 'Binary Heart', 'Fall Apart', 'A Simple Plan', 'Mail', 'The Sierpinski Penis Game', 'Profile Creation Flowchart', 'Jeremy Irons', 'Sunrise', 'Pwned', 'Jacket', 'Gravitational Mass', 'Escher Bracelet', 'Velociraptors', 'Digital Rights Management', 'Paths', 'National Language', 'Katamari', 'Frame', 'Attention, shopper', 'My Other Car', 'Iambic Pentameter', 'Garfield', 'Bored with the Internet', 'Familiar', 'Curse Levels', 'Su Doku', 'Zeppelin', 'Classhole', 'In the Trees', 'Guitar Hero', 'Pillow Talk', 'Five Thirty', 'Nerd Girls', 'Abusive Astronomy', 'Banter', 'Solar Plexus', 'Valentine - Heart', 'Valentine - Karnaugh', \"Stacey's Dad\", 'Super Bowl', 'Graduation', 'Why Do You Love Me?', 'Wait For Me', 'The Cure', 'Useless', 'Science', 'Hobby', 'Secret Worlds', 'Malaria', 'Penny Arcade', 'Want', 'Found', 'Counter-Red Spiders', 'Secrets', 'Schrodinger', 'Love', 'Red Spiders 2', 'Geico', 'Old Drawing', 'Light', 'Bowl', 'Apple Jacks', 'Hyphen', 'Scientists', 'Sheep', 'Flowers', 'Self-reference', 'Pillar', 'Barrel - Part 5', 'Donner', 'Hitler', 'Elefino', 'Meat Cereals', 'Fourier', 'Barrel - Part 4', 'Godel, Escher, Kurt Halsey', 'T-shirts', 'Barrel - Part 3', 'Kepler', 'Ferret', 'George Clinton', 'Snapple', 'What If', 'Monty Python -- Enough', 'Just Alerting You', 'Copyright', 'Canyon', 'Poisson', 'Barrel - Part 2', 'Pi Equals', 'Serenity is coming out tomorrow', 'Red spiders', 'Girl sleeping (Sketch -- 11th grade Spanish class)', 'Irony', 'Blown apart', 'Landscape (sketch)', 'Island (sketch)', 'Petit Trees (sketch)', 'Barrel - Part 1']\n"
          ],
          "name": "stdout"
        }
      ]
    },
    {
      "cell_type": "code",
      "metadata": {
        "id": "Fq98ci9z8jnc"
      },
      "source": [
        "import pandas"
      ],
      "execution_count": null,
      "outputs": []
    },
    {
      "cell_type": "code",
      "metadata": {
        "colab": {
          "base_uri": "https://localhost:8080/",
          "height": 419
        },
        "id": "cqGL0XGL8mbN",
        "outputId": "f7429e20-09fa-4870-88c8-347b32cbf84c"
      },
      "source": [
        "comic=pandas.DataFrame({'titulo': titulo})\r\n",
        "comic"
      ],
      "execution_count": null,
      "outputs": [
        {
          "output_type": "execute_result",
          "data": {
            "text/html": [
              "<div>\n",
              "<style scoped>\n",
              "    .dataframe tbody tr th:only-of-type {\n",
              "        vertical-align: middle;\n",
              "    }\n",
              "\n",
              "    .dataframe tbody tr th {\n",
              "        vertical-align: top;\n",
              "    }\n",
              "\n",
              "    .dataframe thead th {\n",
              "        text-align: right;\n",
              "    }\n",
              "</style>\n",
              "<table border=\"1\" class=\"dataframe\">\n",
              "  <thead>\n",
              "    <tr style=\"text-align: right;\">\n",
              "      <th></th>\n",
              "      <th>titulo</th>\n",
              "    </tr>\n",
              "  </thead>\n",
              "  <tbody>\n",
              "    <tr>\n",
              "      <th>0</th>\n",
              "      <td>Wrapping Paper</td>\n",
              "    </tr>\n",
              "    <tr>\n",
              "      <th>1</th>\n",
              "      <td>Into My Veins</td>\n",
              "    </tr>\n",
              "    <tr>\n",
              "      <th>2</th>\n",
              "      <td>Conjunction</td>\n",
              "    </tr>\n",
              "    <tr>\n",
              "      <th>3</th>\n",
              "      <td>Statistics</td>\n",
              "    </tr>\n",
              "    <tr>\n",
              "      <th>4</th>\n",
              "      <td>2020 Election Map</td>\n",
              "    </tr>\n",
              "    <tr>\n",
              "      <th>...</th>\n",
              "      <td>...</td>\n",
              "    </tr>\n",
              "    <tr>\n",
              "      <th>2397</th>\n",
              "      <td>Blown apart</td>\n",
              "    </tr>\n",
              "    <tr>\n",
              "      <th>2398</th>\n",
              "      <td>Landscape (sketch)</td>\n",
              "    </tr>\n",
              "    <tr>\n",
              "      <th>2399</th>\n",
              "      <td>Island (sketch)</td>\n",
              "    </tr>\n",
              "    <tr>\n",
              "      <th>2400</th>\n",
              "      <td>Petit Trees (sketch)</td>\n",
              "    </tr>\n",
              "    <tr>\n",
              "      <th>2401</th>\n",
              "      <td>Barrel - Part 1</td>\n",
              "    </tr>\n",
              "  </tbody>\n",
              "</table>\n",
              "<p>2402 rows × 1 columns</p>\n",
              "</div>"
            ],
            "text/plain": [
              "                    titulo\n",
              "0           Wrapping Paper\n",
              "1            Into My Veins\n",
              "2              Conjunction\n",
              "3               Statistics\n",
              "4        2020 Election Map\n",
              "...                    ...\n",
              "2397           Blown apart\n",
              "2398    Landscape (sketch)\n",
              "2399       Island (sketch)\n",
              "2400  Petit Trees (sketch)\n",
              "2401       Barrel - Part 1\n",
              "\n",
              "[2402 rows x 1 columns]"
            ]
          },
          "metadata": {
            "tags": []
          },
          "execution_count": 10
        }
      ]
    },
    {
      "cell_type": "code",
      "metadata": {
        "colab": {
          "base_uri": "https://localhost:8080/"
        },
        "id": "l4mgtLoB-Wpx",
        "outputId": "3a079394-6bf0-47a5-d8df-6a4494a774df"
      },
      "source": [
        "import os\r\n",
        "from google.colab import drive\r\n",
        "drive.mount('/content/drive')"
      ],
      "execution_count": null,
      "outputs": [
        {
          "output_type": "stream",
          "text": [
            "Mounted at /content/drive\n"
          ],
          "name": "stdout"
        }
      ]
    },
    {
      "cell_type": "code",
      "metadata": {
        "id": "Lm8Cw_HA9C_6"
      },
      "source": [
        "comic.to_csv('/content/drive/MyDrive/datahack/comic_titulos.csv')"
      ],
      "execution_count": null,
      "outputs": []
    },
    {
      "cell_type": "code",
      "metadata": {
        "id": "GS_d5h8X956a"
      },
      "source": [
        ""
      ],
      "execution_count": null,
      "outputs": []
    }
  ]
}